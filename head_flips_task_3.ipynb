{
 "cells": [
  {
   "cell_type": "markdown",
   "metadata": {},
   "source": [
    "# TASK 3"
   ]
  },
  {
   "cell_type": "markdown",
   "metadata": {},
   "source": [
    "November 16th, 2020: The numpy.random.binomial function can be used to\n",
    "simulate flipping a coin with a 50/50 chance of heads or tails. \n",
    "\n",
    "Interestingly, if a coin is flipped many times then the number of heads is well approximated by a\n",
    "bell-shaped curve. For instance, if we flip a coin 100 times in a row the chance of\n",
    "getting 50 heads is relatively high, the chances of getting 0 or 100 heads is relatively\n",
    "low, and the chances of getting any other number of heads decreases as you move\n",
    "away from 50 in either direction towards 0 or 100. \n",
    "\n",
    "Write some python code that\n",
    "simulates flipping a coin 100 times. \n",
    "\n",
    "\n",
    "Then run this code 1,000 times, keeping track of the number of heads in each of the 1,000 simulations. \n",
    "\n",
    "\n",
    "Select an appropriate plot to depict the resulting list of 1,000 numbers, showing that it roughly follows\n",
    "a bell-shaped curve. You should explain your work in a Markdown cell above the\n",
    "code."
   ]
  },
  {
   "cell_type": "markdown",
   "metadata": {},
   "source": [
    "## Write some python code that simulates flipping a coin 100 times. "
   ]
  },
  {
   "cell_type": "code",
   "execution_count": 1,
   "metadata": {},
   "outputs": [
    {
     "name": "stdout",
     "output_type": "stream",
     "text": [
      "48\n"
     ]
    }
   ],
   "source": [
    "#https://cmdlinetips.com/2018/12/simulating-coin-toss-experiment-with-binomial-random-numbers-using-numpy/\n",
    "\n",
    "import numpy as np\n",
    "import pandas as pd\n",
    "import random\n",
    "import matplotlib.pyplot as plt \n",
    "# np.random.seed(42) don't require random seed for a random result\n",
    "n = 100\n",
    "p = 0.5\n",
    "a = np.random.binomial(n, p)\n",
    "print(a)"
   ]
  },
  {
   "cell_type": "markdown",
   "metadata": {},
   "source": [
    "## Keeping track of head flips"
   ]
  },
  {
   "cell_type": "code",
   "execution_count": 2,
   "metadata": {},
   "outputs": [
    {
     "name": "stdout",
     "output_type": "stream",
     "text": [
      "{1: 0, 2: 0, 3: 0, 4: 0, 5: 0, 6: 0, 7: 0, 8: 0, 9: 0, 10: 0, 11: 0, 12: 0, 13: 0, 14: 0, 15: 0, 16: 0, 17: 0, 18: 0, 19: 0, 20: 0, 21: 0, 22: 0, 23: 0, 24: 0, 25: 0, 26: 0, 27: 0, 28: 0, 29: 0, 30: 0, 31: 0, 32: 0, 33: 0, 34: 0, 35: 0, 36: 0, 37: 0, 38: 0, 39: 0, 40: 0, 41: 0, 42: 0, 43: 0, 44: 0, 45: 0, 46: 0, 47: 0, 48: 0, 49: 0, 50: 0, 51: 0, 52: 0, 53: 0, 54: 0, 55: 0, 56: 0, 57: 0, 58: 0, 59: 0, 60: 0, 61: 0, 62: 0, 63: 0, 64: 0, 65: 0, 66: 0, 67: 0, 68: 0, 69: 0, 70: 0, 71: 0, 72: 0, 73: 0, 74: 0, 75: 0, 76: 0, 77: 0, 78: 0, 79: 0, 80: 0, 81: 0, 82: 0, 83: 0, 84: 0, 85: 0, 86: 0, 87: 0, 88: 0, 89: 0, 90: 0, 91: 0, 92: 0, 93: 0, 94: 0, 95: 0, 96: 0, 97: 0, 98: 0, 99: 0, 100: 0}\n"
     ]
    }
   ],
   "source": [
    "#building a dictionary to store potential head flip results\n",
    "\n",
    "dictionary_of_head_flip_results = {}\n",
    "round_of_flips = 100\n",
    "while round_of_flips > 0:\n",
    "        dictionary_of_head_flip_results[round_of_flips] = 0\n",
    "        round_of_flips -= 1\n",
    "        \"https://stackoverflow.com/questions/9001509/how-can-i-sort-a-dictionary-by-key\"\n",
    "        dictionary_of_head_flip_results = dict(sorted(dictionary_of_head_flip_results.items()))\n",
    "print(dictionary_of_head_flip_results)"
   ]
  },
  {
   "cell_type": "markdown",
   "metadata": {},
   "source": [
    "## Then run this code 1,000 times, keeping track of the number of heads in each of the 1,000 simulations. "
   ]
  },
  {
   "cell_type": "code",
   "execution_count": 3,
   "metadata": {},
   "outputs": [
    {
     "name": "stdout",
     "output_type": "stream",
     "text": [
      "{1: 0, 2: 0, 3: 0, 4: 0, 5: 0, 6: 0, 7: 0, 8: 0, 9: 0, 10: 0, 11: 0, 12: 0, 13: 0, 14: 0, 15: 0, 16: 0, 17: 0, 18: 0, 19: 0, 20: 0, 21: 0, 22: 0, 23: 0, 24: 0, 25: 0, 26: 0, 27: 0, 28: 0, 29: 0, 30: 0, 31: 0, 32: 0, 33: 0, 34: 0, 35: 0, 36: 0, 37: 0, 38: 0, 39: 0, 40: 0, 41: 0, 42: 0, 43: 0, 44: 0, 45: 0, 46: 0, 47: 0, 48: 0, 49: 0, 50: 0, 51: 0, 52: 0, 53: 0, 54: 0, 55: 0, 56: 0, 57: 0, 58: 0, 59: 0, 60: 0, 61: 0, 62: 0, 63: 0, 64: 0, 65: 0, 66: 0, 67: 0, 68: 0, 69: 0, 70: 0, 71: 0, 72: 0, 73: 0, 74: 0, 75: 0, 76: 0, 77: 0, 78: 0, 79: 0, 80: 0, 81: 0, 82: 0, 83: 0, 84: 0, 85: 0, 86: 0, 87: 0, 88: 0, 89: 0, 90: 0, 91: 0, 92: 0, 93: 0, 94: 0, 95: 0, 96: 0, 97: 0, 98: 0, 99: 0, 100: 0}\n",
      "{1: 0, 2: 0, 3: 0, 4: 0, 5: 0, 6: 0, 7: 0, 8: 0, 9: 0, 10: 0, 11: 0, 12: 0, 13: 0, 14: 0, 15: 0, 16: 0, 17: 0, 18: 0, 19: 0, 20: 0, 21: 0, 22: 0, 23: 0, 24: 0, 25: 0, 26: 0, 27: 0, 28: 0, 29: 0, 30: 0, 31: 0, 32: 0, 33: 0, 34: 1, 35: 1, 36: 1, 37: 4, 38: 6, 39: 8, 40: 13, 41: 13, 42: 34, 43: 25, 44: 41, 45: 43, 46: 61, 47: 75, 48: 68, 49: 81, 50: 78, 51: 74, 52: 72, 53: 68, 54: 58, 55: 39, 56: 48, 57: 28, 58: 24, 59: 16, 60: 5, 61: 6, 62: 5, 63: 2, 64: 1, 65: 0, 66: 1, 67: 0, 68: 0, 69: 0, 70: 0, 71: 0, 72: 0, 73: 0, 74: 0, 75: 0, 76: 0, 77: 0, 78: 0, 79: 0, 80: 0, 81: 0, 82: 0, 83: 0, 84: 0, 85: 0, 86: 0, 87: 0, 88: 0, 89: 0, 90: 0, 91: 0, 92: 0, 93: 0, 94: 0, 95: 0, 96: 0, 97: 0, 98: 0, 99: 0, 100: 0}\n",
      "{34: 1, 35: 1, 36: 1, 37: 4, 38: 6, 39: 8, 40: 13, 41: 13, 42: 34, 43: 25, 44: 41, 45: 43, 46: 61, 47: 75, 48: 68, 49: 81, 50: 78, 51: 74, 52: 72, 53: 68, 54: 58, 55: 39, 56: 48, 57: 28, 58: 24, 59: 16, 60: 5, 61: 6, 62: 5, 63: 2, 64: 1, 66: 1}\n"
     ]
    }
   ],
   "source": [
    "import numpy as np\n",
    "import pandas as pd\n",
    "import random\n",
    "import matplotlib.pyplot as plt \n",
    "\n",
    "\n",
    "counter = 1000\n",
    "dictionary_of_head_flip_results = {}\n",
    "\n",
    "\n",
    "dictionary_of_head_flip_results = {}\n",
    "round_of_flips = 100\n",
    "while round_of_flips > 0:\n",
    "        dictionary_of_head_flip_results[round_of_flips] = 0\n",
    "        round_of_flips -= 1\n",
    "        \"https://stackoverflow.com/questions/9001509/how-can-i-sort-a-dictionary-by-key\"\n",
    "        dictionary_of_head_flip_results = dict(sorted(dictionary_of_head_flip_results.items()))\n",
    "print(dictionary_of_head_flip_results)\n",
    "\n",
    "while counter > 0:\n",
    "    # np.random.seed(42) don't require random seed for a random result\n",
    "    n = 100\n",
    "    p = 0.5\n",
    "    head_count = np.random.binomial(n, p)\n",
    "    \n",
    "    \n",
    "    update = (head_count)\n",
    "    \"https://careerkarma.com/blog/python-dictionary-get/\"\n",
    "    dict_value = dictionary_of_head_flip_results.get(update)\n",
    "    dictionary_of_head_flip_results[update] = dict_value + 1\n",
    "    \n",
    "    counter -= 1\n",
    "\n",
    "print(dictionary_of_head_flip_results)\n",
    "    \n",
    "\n",
    "# STRIP 0 VALUES FROM DICTIONARY\n",
    "\"https://stackoverflow.com/questions/29218750/what-is-the-best-way-to-remove-a-dictionary-item-by-value-in-python\"\n",
    "for key, value in dict(dictionary_of_head_flip_results).items():\n",
    "    if value == 0: #deletes key from dictionary if value is 0\n",
    "        del dictionary_of_head_flip_results[key]\n",
    "print(dictionary_of_head_flip_results)\n",
    "\n"
   ]
  },
  {
   "cell_type": "markdown",
   "metadata": {},
   "source": [
    "### Select an appropriate plot to depict the resulting list of 1,000 numbers, showing that it roughly follows a bell-shaped curve. You should explain your work in a Markdown cell above the code."
   ]
  },
  {
   "cell_type": "code",
   "execution_count": 4,
   "metadata": {},
   "outputs": [
    {
     "data": {
      "image/png": "[encoded data removed]",
      "text/plain": [
       "<Figure size 432x288 with 1 Axes>"
      ]
     },
     "metadata": {
      "needs_background": "light"
     },
     "output_type": "display_data"
    }
   ],
   "source": [
    "#https://www.kite.com/python/answers/how-to-plot-a-bar-chart-using-a-dictionary-in-matplotlib-in-python\n",
    "\n",
    "keys = dictionary_of_head_flip_results.keys()\n",
    "values = dictionary_of_head_flip_results.values()\n",
    "\n",
    "#https://www.kite.com/python/answers/how-to-rotate-axis-labels-in-matplotlib-in-python\n",
    "plt.xticks(rotation=45)\n",
    "plt.yticks(rotation=90)\n",
    "#https://showmecode.info/matplotlib/bar/change-bar-color/\n",
    "plt.bar(keys, values,  color=['red', 'blue', 'purple', 'green', 'lavender'])\n",
    "plt.ylabel('Tests With This Result')\n",
    "plt.xlabel('Number of heads')\n",
    "plt.title('1000 Tests of 100 Flips')\n",
    "#https://www.kite.com/python/answers/how-save-a-matplotlib-plot-as-a-pdf-file-in-python\n",
    "#plt.savefig(\"plots.pdf\")\n",
    "plt.show()"
   ]
  },
  {
   "cell_type": "code",
   "execution_count": null,
   "metadata": {},
   "outputs": [],
   "source": []
  }
 ],
 "metadata": {
  "kernelspec": {
   "display_name": "Python 3",
   "language": "python",
   "name": "python3"
  },
  "language_info": {
   "codemirror_mode": {
    "name": "ipython",
    "version": 3
   },
   "file_extension": ".py",
   "mimetype": "text/x-python",
   "name": "python",
   "nbconvert_exporter": "python",
   "pygments_lexer": "ipython3",
   "version": "3.8.3"
  }
 },
 "nbformat": 4,
 "nbformat_minor": 2
}
